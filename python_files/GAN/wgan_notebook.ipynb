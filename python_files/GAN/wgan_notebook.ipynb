{
 "cells": [
  {
   "cell_type": "code",
   "execution_count": null,
   "metadata": {},
   "outputs": [],
   "source": [
    "from wgan import WGAN\n",
    "from load_dataset import parser\n",
    "import tensorflow as tf\n",
    "from tensorflow import keras"
   ]
  },
  {
   "cell_type": "code",
   "execution_count": null,
   "metadata": {},
   "outputs": [],
   "source": [
    "# Creating GAN\n",
    "wgan = WGAN()"
   ]
  },
  {
   "cell_type": "code",
   "execution_count": null,
   "metadata": {},
   "outputs": [],
   "source": [
    "# Importing the dataset\n",
    "tfile = \"/home/gaspard/ETHZ/Master_Arbeit/acoupipe_datasets/training_1-100000_csmtriu_1src_he4.0625-1393.4375Hz_ds1-v001_13-Sep-2022.tfrecord\"\n",
    "dataset = tf.data.TFRecordDataset(filenames=[tfile])\n",
    "\n",
    "# The parser convert the CSMTRIU into eigenvector (TODO: need to be extended to also extract the eigenvalues.)\n",
    "dataset = dataset.map(parser)\n",
    "\n",
    "#  Creating the batches\n",
    "dataset = dataset.shuffle(buffer_size=10).batch(wgan.batch_size)\n"
   ]
  },
  {
   "cell_type": "code",
   "execution_count": null,
   "metadata": {},
   "outputs": [],
   "source": [
    "# Training the GAN\n",
    "wgan.train(n_epochs=100, dataset=dataset)"
   ]
  },
  {
   "cell_type": "code",
   "execution_count": null,
   "metadata": {},
   "outputs": [],
   "source": [
    "import matplotlib.pyplot as plt\n",
    "\n",
    "\n",
    "# Generating a sample:\n",
    "generated_eigenvector = wgan.get_sample()\n",
    "\n",
    "if generated_eigenvector != None:\n",
    "    real = generated_eigenvector[0,:,:,0]\n",
    "    im = generated_eigenvector[0,:,:,1]\n",
    "\n",
    "    fig = plt.figure(figsize=(15,15))\n",
    "    plt.subplot(1,2,1)\n",
    "    plt.imshow(real)\n",
    "    plt.subplot(1,2,2)\n",
    "    plt.imshow(im)\n"
   ]
  },
  {
   "cell_type": "code",
   "execution_count": null,
   "metadata": {},
   "outputs": [],
   "source": []
  },
  {
   "cell_type": "code",
   "execution_count": null,
   "metadata": {},
   "outputs": [],
   "source": []
  },
  {
   "cell_type": "code",
   "execution_count": null,
   "metadata": {},
   "outputs": [],
   "source": []
  }
 ],
 "metadata": {
  "kernelspec": {
   "display_name": "Python 3.10.4 ('master_arbeit')",
   "language": "python",
   "name": "python3"
  },
  "language_info": {
   "codemirror_mode": {
    "name": "ipython",
    "version": 3
   },
   "file_extension": ".py",
   "mimetype": "text/x-python",
   "name": "python",
   "nbconvert_exporter": "python",
   "pygments_lexer": "ipython3",
   "version": "3.10.4"
  },
  "orig_nbformat": 4,
  "vscode": {
   "interpreter": {
    "hash": "d46cea35c42c054183b6642d4f981f16f79b8ccebc5e48374ba9e6e0f8016689"
   }
  }
 },
 "nbformat": 4,
 "nbformat_minor": 2
}
