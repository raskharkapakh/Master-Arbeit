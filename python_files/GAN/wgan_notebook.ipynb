{
 "cells": [
  {
   "cell_type": "code",
   "execution_count": null,
   "metadata": {},
   "outputs": [],
   "source": [
    "from wgan import WGAN\n",
    "from load_dataset import parser, full_parser\n",
    "import tensorflow as tf\n",
    "from tensorflow import keras"
   ]
  },
  {
   "cell_type": "code",
   "execution_count": null,
   "metadata": {},
   "outputs": [],
   "source": [
    "# Creating GAN\n",
    "wgan = WGAN()"
   ]
  },
  {
   "cell_type": "code",
   "execution_count": null,
   "metadata": {},
   "outputs": [],
   "source": [
    "# Importing the dataset\n",
    "tfile = \"/home/gaspard/ETHZ/Master_Arbeit/acoupipe_datasets/training_1-100000_csmtriu_1src_he4.0625-1393.4375Hz_ds1-v001_13-Sep-2022.tfrecord\"\n",
    "dataset = tf.data.TFRecordDataset(filenames=[tfile])\n",
    "\n",
    "# The parser convert the CSMTRIU into eigenvector (TODO: need to be extended to also extract the eigenvalues.)\n",
    "dataset = dataset.map(full_parser)\n",
    "#dataset = dataset.map(parser)\n",
    "\n",
    "#  Creating the batches\n",
    "dataset = dataset.shuffle(buffer_size=10).batch(wgan.batch_size)\n"
   ]
  },
  {
   "cell_type": "code",
   "execution_count": null,
   "metadata": {},
   "outputs": [],
   "source": [
    "# Training the GAN\n",
    "wgan.train(n_epochs=5, dataset=dataset)"
   ]
  },
  {
   "cell_type": "code",
   "execution_count": null,
   "metadata": {},
   "outputs": [],
   "source": [
    "import matplotlib.pyplot as plt\n",
    "\n",
    "\n",
    "# Generating a sample:\n",
    "generated = wgan.get_sample()\n",
    "\n",
    "if generated != None:\n",
    "    eigensvectors_real = generated[0,:,:,0]\n",
    "    eigensvectors_im = generated[0,:,:,1]\n",
    "    eigensvalues_real = generated[0,:,:,2]\n",
    "    eigensvalues_im = generated[0,:,:,3]\n",
    "\n",
    "    fig = plt.figure(figsize=(15,15))\n",
    "    plt.subplot(2,2,1)\n",
    "    plt.imshow(eigensvectors_real)\n",
    "    plt.subplot(2,2,2)\n",
    "    plt.imshow(eigensvectors_im)\n",
    "    plt.subplot(2,2,3)\n",
    "    plt.imshow(eigensvalues_real)\n",
    "    plt.subplot(2,2,4)\n",
    "    plt.imshow(eigensvalues_im)\n"
   ]
  },
  {
   "cell_type": "code",
   "execution_count": 1,
   "metadata": {},
   "outputs": [
    {
     "name": "stderr",
     "output_type": "stream",
     "text": [
      "2022-09-23 15:06:53.216894: I tensorflow/core/platform/cpu_feature_guard.cc:193] This TensorFlow binary is optimized with oneAPI Deep Neural Network Library (oneDNN) to use the following CPU instructions in performance-critical operations:  AVX2 FMA\n",
      "To enable them in other operations, rebuild TensorFlow with the appropriate compiler flags.\n",
      "2022-09-23 15:06:53.395780: W tensorflow/stream_executor/platform/default/dso_loader.cc:64] Could not load dynamic library 'libcudart.so.11.0'; dlerror: libcudart.so.11.0: cannot open shared object file: No such file or directory\n",
      "2022-09-23 15:06:53.395807: I tensorflow/stream_executor/cuda/cudart_stub.cc:29] Ignore above cudart dlerror if you do not have a GPU set up on your machine.\n",
      "2022-09-23 15:06:53.429022: E tensorflow/stream_executor/cuda/cuda_blas.cc:2981] Unable to register cuBLAS factory: Attempting to register factory for plugin cuBLAS when one has already been registered\n",
      "2022-09-23 15:06:54.417568: W tensorflow/stream_executor/platform/default/dso_loader.cc:64] Could not load dynamic library 'libnvinfer.so.7'; dlerror: libnvinfer.so.7: cannot open shared object file: No such file or directory\n",
      "2022-09-23 15:06:54.417638: W tensorflow/stream_executor/platform/default/dso_loader.cc:64] Could not load dynamic library 'libnvinfer_plugin.so.7'; dlerror: libnvinfer_plugin.so.7: cannot open shared object file: No such file or directory\n",
      "2022-09-23 15:06:54.417646: W tensorflow/compiler/tf2tensorrt/utils/py_utils.cc:38] TF-TRT Warning: Cannot dlopen some TensorRT libraries. If you would like to use Nvidia GPU with TensorRT, please make sure the missing libraries mentioned above are installed properly.\n",
      "2022-09-23 15:06:55.583514: W tensorflow/stream_executor/platform/default/dso_loader.cc:64] Could not load dynamic library 'libcuda.so.1'; dlerror: libcuda.so.1: cannot open shared object file: No such file or directory\n",
      "2022-09-23 15:06:55.583550: W tensorflow/stream_executor/cuda/cuda_driver.cc:263] failed call to cuInit: UNKNOWN ERROR (303)\n",
      "2022-09-23 15:06:55.583569: I tensorflow/stream_executor/cuda/cuda_diagnostics.cc:156] kernel driver does not appear to be running on this host (gaspard-HP-ZBook-15u-G2): /proc/driver/nvidia/version does not exist\n",
      "2022-09-23 15:06:55.583827: I tensorflow/core/platform/cpu_feature_guard.cc:193] This TensorFlow binary is optimized with oneAPI Deep Neural Network Library (oneDNN) to use the following CPU instructions in performance-critical operations:  AVX2 FMA\n",
      "To enable them in other operations, rebuild TensorFlow with the appropriate compiler flags.\n"
     ]
    }
   ],
   "source": [
    "\"\"\"\n",
    "\n",
    "# trial full data:\n",
    "from load_dataset import full_parser\n",
    "import tensorflow as tf\n",
    "\n",
    "# Importing the dataset\n",
    "tfile = \"/home/gaspard/ETHZ/Master_Arbeit/acoupipe_datasets/training_1-100000_csmtriu_1src_he4.0625-1393.4375Hz_ds1-v001_13-Sep-2022.tfrecord\"\n",
    "dataset = tf.data.TFRecordDataset(filenames=[tfile])\n",
    "\n",
    "# The parser convert the CSMTRIU into eigenvector (TODO: need to be extended to also extract the eigenvalues.)\n",
    "dataset = dataset.map(full_parser)\n",
    "\n",
    "batch_size = 16\n",
    "\n",
    "#  Creating the batches\n",
    "dataset = dataset.shuffle(buffer_size=10).batch(batch_size)\n",
    "\n",
    "batch = iter(dataset)\n",
    "\n",
    "real_sample = batch.get_next()\n",
    "\n",
    "\"\"\"\n"
   ]
  },
  {
   "cell_type": "code",
   "execution_count": null,
   "metadata": {},
   "outputs": [],
   "source": []
  }
 ],
 "metadata": {
  "kernelspec": {
   "display_name": "Python 3.10.4 ('master_arbeit')",
   "language": "python",
   "name": "python3"
  },
  "language_info": {
   "codemirror_mode": {
    "name": "ipython",
    "version": 3
   },
   "file_extension": ".py",
   "mimetype": "text/x-python",
   "name": "python",
   "nbconvert_exporter": "python",
   "pygments_lexer": "ipython3",
   "version": "3.10.4"
  },
  "orig_nbformat": 4,
  "vscode": {
   "interpreter": {
    "hash": "d46cea35c42c054183b6642d4f981f16f79b8ccebc5e48374ba9e6e0f8016689"
   }
  }
 },
 "nbformat": 4,
 "nbformat_minor": 2
}
