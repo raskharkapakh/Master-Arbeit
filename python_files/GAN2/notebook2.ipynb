{
 "cells": [
  {
   "cell_type": "code",
   "execution_count": null,
   "metadata": {},
   "outputs": [],
   "source": [
    "import tensorflow as tf # tensorflow 2.10\n",
    "import numpy as np\n",
    "import matplotlib.pyplot as plt\n",
    "from load_data2 import evals_parser, evals_square_parser, evecs_parser"
   ]
  },
  {
   "cell_type": "code",
   "execution_count": null,
   "metadata": {},
   "outputs": [],
   "source": [
    "# Importing the datasets\n",
    "batch_size = 16\n",
    "tfile = \"/home/gaspard/ETHZ/Master_Arbeit/acoupipe_datasets/training_1-100000_csmtriu_1src_he4.0625-1393.4375Hz_ds1-v001_13-Sep-2022.tfrecord\"\n",
    "dataset = tf.data.TFRecordDataset(filenames=[tfile])\n",
    "\n",
    "evals_dataset = dataset.map(evals_parser)\n",
    "evals_dataset = evals_dataset.shuffle(buffer_size=10).batch(batch_size)\n",
    "\n",
    "evals_square_dataset = dataset.map(evals_square_parser)\n",
    "evals_square_dataset = evals_square_dataset.shuffle(buffer_size=10).batch(batch_size)\n",
    "\n",
    "evecs_dataset = dataset.map(evecs_parser)\n",
    "evecs_dataset = evecs_dataset.shuffle(buffer_size=10).batch(batch_size)"
   ]
  },
  {
   "cell_type": "markdown",
   "metadata": {},
   "source": [
    "### WGANGP to generate eigenvalues"
   ]
  },
  {
   "cell_type": "code",
   "execution_count": null,
   "metadata": {},
   "outputs": [],
   "source": [
    "from evals_WGANGP2 import evals_WGANGP\n",
    "\n",
    "# Creating GAN\n",
    "evals_wgangp = evals_WGANGP()"
   ]
  },
  {
   "cell_type": "code",
   "execution_count": null,
   "metadata": {},
   "outputs": [],
   "source": [
    "evals_wgangp.train(evals_dataset=evals_square_dataset, n_epoch=100)"
   ]
  },
  {
   "cell_type": "code",
   "execution_count": null,
   "metadata": {},
   "outputs": [],
   "source": [
    "import numpy as np\n",
    "import matplotlib.pyplot as plt\n",
    "\n",
    "is_real, sample = evals_wgangp.generate_evals()\n",
    "sample = np.sort(np.array(sample[0, :, :, 0]).flatten()) # convert sample from (1,8,8,1) to (64,)\n",
    "\n",
    "\n",
    "if is_real:\n",
    "    plt.title(\"generated sample, detected as real\")\n",
    "    plt.plot(sample)\n",
    "else:\n",
    "    plt.title(\"generated sample, detected as fake\")\n",
    "    plt.plot(sample)    "
   ]
  },
  {
   "cell_type": "markdown",
   "metadata": {},
   "source": [
    "### GRIDSEARCH: GAN to generate eigenvalues"
   ]
  },
  {
   "cell_type": "code",
   "execution_count": null,
   "metadata": {},
   "outputs": [],
   "source": [
    "from tensorflow import summary\n",
    "from evals_GAN2 import evals_GAN\n",
    "\n",
    "lr_list = [5e-7, 1e-7, 5e-8, 1e-8, 5e-9, 1e-9]\n",
    "#lr_list = [1e-10, 1e-11, 1e-12]\n",
    "beta_1_list = [0.9, 0.8, 0.7, 0.6, 0.5, 0.4, 0.3, 0.2, 0.1]\n",
    "\n",
    "for lr in lr_list:\n",
    "    for beta_1 in beta_1_list:\n",
    "        \n",
    "        print(f\"lr={lr}, beta_1={beta_1}\")\n",
    "        \n",
    "        evals_gan = evals_GAN(lr, beta_1, summary=False) # Creating GAN\n",
    "        evals_gan.train(evals_dataset=evals_dataset, n_epoch=500, print_epoch=False) # Training the GAN\n",
    "\n",
    "        # Plotting sampled eigenvalues \n",
    "        is_real, sample = evals_gan.get_evals()\n",
    "        \n",
    "        fig = plt.figure()\n",
    "\n",
    "        if is_real:\n",
    "            plt.title(f\"generated sample, detected as real, lr={lr}, b={beta_1}\")\n",
    "            plt.plot(np.sort(np.array(sample)[0]))\n",
    "        else:\n",
    "            plt.title(f\"generated sample, detected as fake, lr={lr}, b={beta_1}\")\n",
    "            plt.plot(np.sort(np.array(sample)[0]))"
   ]
  },
  {
   "cell_type": "code",
   "execution_count": null,
   "metadata": {},
   "outputs": [],
   "source": [
    "# Grid search 2\n",
    "#from tensorflow import summary\n",
    "from evals_GAN2 import evals_GAN\n",
    "\n",
    "lr_list = [1e-9, 1e-9, 1e-8, 1e-7, 1e-7]\n",
    "beta_1_list = [0.5, 0.7, 0.2, 0.1, 0.9]\n",
    "\n",
    "n_epoch=250\n",
    "\n",
    "for lr, beta_1 in zip(lr_list, beta_1_list):\n",
    "    \n",
    "    print(f\"lr={lr}, beta_1={beta_1}\")\n",
    "    \n",
    "    evals_gan = evals_GAN(lr, beta_1, summary=False) # Creating GAN\n",
    "    evals_gan.train(evals_dataset=evals_dataset, n_epoch=n_epoch, print_epoch=False) # Training the GAN\n",
    "\n",
    "    # Plotting sampled eigenvalues \n",
    "    is_real, sample = evals_gan.get_evals()\n",
    "    \n",
    "    fig = plt.figure()\n",
    "\n",
    "    if is_real:\n",
    "        plt.title(f\"generated sample, detected as real, lr={lr}, b={beta_1}\")\n",
    "        plt.plot(np.sort(np.array(sample)[0]))\n",
    "    else:\n",
    "        plt.title(f\"generated sample, detected as fake, lr={lr}, b={beta_1}\")\n",
    "        plt.plot(np.sort(np.array(sample)[0]))\n",
    "    \n",
    "# runtime   : 1000 epochs  : approx 5min30\n",
    "# runtime   : 250 epochs   : approx 1min30"
   ]
  },
  {
   "cell_type": "markdown",
   "metadata": {},
   "source": [
    "### GAN to generate eigenvalues"
   ]
  },
  {
   "cell_type": "code",
   "execution_count": null,
   "metadata": {},
   "outputs": [],
   "source": [
    "from evals_GAN2 import evals_GAN\n",
    "\n",
    "# Creating GAN\n",
    "evals_gan = evals_GAN()\n",
    "\n",
    "# Training the GAN\n",
    "evals_gan.train(evals_dataset=evals_dataset, n_epoch=100)"
   ]
  },
  {
   "cell_type": "code",
   "execution_count": null,
   "metadata": {},
   "outputs": [],
   "source": [
    "# Plotting sampled eigenvalues \n",
    "is_real, sample = evals_gan.get_evals()\n",
    "\n",
    "if is_real:\n",
    "    plt.title(\"generated sample, detected as real\")\n",
    "    plt.plot(np.sort(np.array(sample)[0]))\n",
    "else:\n",
    "    plt.title(\"generated sample, detected as fake\")\n",
    "    plt.plot(np.sort(np.array(sample)[0]))"
   ]
  },
  {
   "cell_type": "markdown",
   "metadata": {},
   "source": [
    "### DCGAN to generate eigenvalues"
   ]
  },
  {
   "cell_type": "code",
   "execution_count": null,
   "metadata": {},
   "outputs": [],
   "source": [
    "from evals_DCGAN2 import evals_DCGAN\n",
    "\n",
    "# Creating GAN\n",
    "evals_dcgan = evals_DCGAN()\n",
    "\n",
    "# Training the GAN\n",
    "evals_dcgan.train(evals_dataset=evals_dataset, n_epoch=300)"
   ]
  },
  {
   "cell_type": "code",
   "execution_count": null,
   "metadata": {},
   "outputs": [],
   "source": [
    "# Plotting sampled eigenvalues \n",
    "is_real, sample = evals_dcgan.get_evals()\n",
    "\n",
    "if is_real:\n",
    "    plt.title(\"generated sample, detected as real\")\n",
    "    plt.plot(np.sort(np.array(sample)[0]))\n",
    "else:\n",
    "    plt.title(\"generated sample, detected as fake\")\n",
    "    plt.plot(np.sort(np.array(sample)[0]))"
   ]
  },
  {
   "cell_type": "markdown",
   "metadata": {},
   "source": [
    "### WGAN to generate eigenvectors "
   ]
  },
  {
   "cell_type": "code",
   "execution_count": null,
   "metadata": {},
   "outputs": [],
   "source": [
    "from evecs_WGAN2 import evecs_WGAN\n",
    "\n",
    "# Creating WGAN\n",
    "evecs_wgan = evecs_WGAN()"
   ]
  },
  {
   "cell_type": "code",
   "execution_count": null,
   "metadata": {},
   "outputs": [],
   "source": [
    "evecs_wgan.train(evecs_dataset=evecs_dataset, n_epoch=1000)"
   ]
  },
  {
   "cell_type": "code",
   "execution_count": null,
   "metadata": {},
   "outputs": [],
   "source": [
    "sample = evecs_wgan.get_evecs()"
   ]
  },
  {
   "cell_type": "code",
   "execution_count": null,
   "metadata": {},
   "outputs": [],
   "source": []
  }
 ],
 "metadata": {
  "kernelspec": {
   "display_name": "Python 3.10.4 ('master_arbeit')",
   "language": "python",
   "name": "python3"
  },
  "language_info": {
   "codemirror_mode": {
    "name": "ipython",
    "version": 3
   },
   "file_extension": ".py",
   "mimetype": "text/x-python",
   "name": "python",
   "nbconvert_exporter": "python",
   "pygments_lexer": "ipython3",
   "version": "3.10.4"
  },
  "orig_nbformat": 4,
  "vscode": {
   "interpreter": {
    "hash": "d46cea35c42c054183b6642d4f981f16f79b8ccebc5e48374ba9e6e0f8016689"
   }
  }
 },
 "nbformat": 4,
 "nbformat_minor": 2
}
