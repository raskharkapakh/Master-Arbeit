{
 "cells": [
  {
   "cell_type": "code",
   "execution_count": 1,
   "metadata": {},
   "outputs": [
    {
     "name": "stderr",
     "output_type": "stream",
     "text": [
      "2022-11-03 10:28:33.030009: I tensorflow/core/platform/cpu_feature_guard.cc:193] This TensorFlow binary is optimized with oneAPI Deep Neural Network Library (oneDNN) to use the following CPU instructions in performance-critical operations:  AVX2 FMA\n",
      "To enable them in other operations, rebuild TensorFlow with the appropriate compiler flags.\n",
      "2022-11-03 10:28:33.243986: W tensorflow/stream_executor/platform/default/dso_loader.cc:64] Could not load dynamic library 'libcudart.so.11.0'; dlerror: libcudart.so.11.0: cannot open shared object file: No such file or directory\n",
      "2022-11-03 10:28:33.244020: I tensorflow/stream_executor/cuda/cudart_stub.cc:29] Ignore above cudart dlerror if you do not have a GPU set up on your machine.\n",
      "2022-11-03 10:28:33.302946: E tensorflow/stream_executor/cuda/cuda_blas.cc:2981] Unable to register cuBLAS factory: Attempting to register factory for plugin cuBLAS when one has already been registered\n",
      "2022-11-03 10:28:34.757570: W tensorflow/stream_executor/platform/default/dso_loader.cc:64] Could not load dynamic library 'libnvinfer.so.7'; dlerror: libnvinfer.so.7: cannot open shared object file: No such file or directory\n",
      "2022-11-03 10:28:34.757674: W tensorflow/stream_executor/platform/default/dso_loader.cc:64] Could not load dynamic library 'libnvinfer_plugin.so.7'; dlerror: libnvinfer_plugin.so.7: cannot open shared object file: No such file or directory\n",
      "2022-11-03 10:28:34.757684: W tensorflow/compiler/tf2tensorrt/utils/py_utils.cc:38] TF-TRT Warning: Cannot dlopen some TensorRT libraries. If you would like to use Nvidia GPU with TensorRT, please make sure the missing libraries mentioned above are installed properly.\n",
      "/home/gaspard/anaconda3/envs/master_arbeit/lib/python3.10/site-packages/scipy/__init__.py:146: UserWarning: A NumPy version >=1.16.5 and <1.23.0 is required for this version of SciPy (detected version 1.23.4\n",
      "  warnings.warn(f\"A NumPy version >={np_minversion} and <{np_maxversion}\"\n"
     ]
    }
   ],
   "source": [
    "import tensorflow as tf # tensorflow 2.10\n",
    "import numpy as np\n",
    "import matplotlib.pyplot as plt\n",
    "from load_data2 import evals_parser, evals_square_parser, evecs_parser"
   ]
  },
  {
   "cell_type": "code",
   "execution_count": 2,
   "metadata": {},
   "outputs": [
    {
     "data": {
      "text/plain": [
       "'\\ndataset = tf.data.TFRecordDataset(filenames=[tfile])\\n\\nevals_dataset = dataset.map(evals_parser)\\nevals_dataset = evals_dataset.shuffle(buffer_size=10).batch(batch_size)\\n\\nevals_square_dataset = dataset.map(evals_square_parser)\\nevals_square_dataset = evals_square_dataset.shuffle(buffer_size=10).batch(batch_size)\\n\\nevecs_dataset = dataset.map(evecs_parser)\\nevecs_dataset = evecs_dataset.shuffle(buffer_size=10).batch(batch_size)\\n'"
      ]
     },
     "execution_count": 2,
     "metadata": {},
     "output_type": "execute_result"
    }
   ],
   "source": [
    "# Importing the datasets\n",
    "batch_size = 16\n",
    "tfile = \"/home/gaspard/ETHZ/Master_Arbeit/acoupipe_datasets/training_1-100000_csmtriu_1src_he4.0625-1393.4375Hz_ds1-v001_13-Sep-2022.tfrecord\"\n",
    "\"\"\"\n",
    "dataset = tf.data.TFRecordDataset(filenames=[tfile])\n",
    "\n",
    "evals_dataset = dataset.map(evals_parser)\n",
    "evals_dataset = evals_dataset.shuffle(buffer_size=10).batch(batch_size)\n",
    "\n",
    "evals_square_dataset = dataset.map(evals_square_parser)\n",
    "evals_square_dataset = evals_square_dataset.shuffle(buffer_size=10).batch(batch_size)\n",
    "\n",
    "evecs_dataset = dataset.map(evecs_parser)\n",
    "evecs_dataset = evecs_dataset.shuffle(buffer_size=10).batch(batch_size)\n",
    "\"\"\""
   ]
  },
  {
   "cell_type": "markdown",
   "metadata": {},
   "source": [
    "### WGANGP to generate eigenvalues"
   ]
  },
  {
   "cell_type": "code",
   "execution_count": 3,
   "metadata": {},
   "outputs": [
    {
     "ename": "ImportError",
     "evalue": "Numba needs NumPy 1.21 or less",
     "output_type": "error",
     "traceback": [
      "\u001b[0;31m---------------------------------------------------------------------------\u001b[0m",
      "\u001b[0;31mImportError\u001b[0m                               Traceback (most recent call last)",
      "\u001b[1;32m/home/gaspard/ETHZ/Master_Arbeit/repo/Master-Arbeit/python_files/GAN2/notebook2.ipynb Cellule 4\u001b[0m in \u001b[0;36m<cell line: 1>\u001b[0;34m()\u001b[0m\n\u001b[0;32m----> <a href='vscode-notebook-cell:/home/gaspard/ETHZ/Master_Arbeit/repo/Master-Arbeit/python_files/GAN2/notebook2.ipynb#W3sZmlsZQ%3D%3D?line=0'>1</a>\u001b[0m \u001b[39mfrom\u001b[39;00m \u001b[39mevals_WGANGP2\u001b[39;00m \u001b[39mimport\u001b[39;00m evals_WGANGP\n\u001b[1;32m      <a href='vscode-notebook-cell:/home/gaspard/ETHZ/Master_Arbeit/repo/Master-Arbeit/python_files/GAN2/notebook2.ipynb#W3sZmlsZQ%3D%3D?line=2'>3</a>\u001b[0m \u001b[39m# Creating GAN\u001b[39;00m\n\u001b[1;32m      <a href='vscode-notebook-cell:/home/gaspard/ETHZ/Master_Arbeit/repo/Master-Arbeit/python_files/GAN2/notebook2.ipynb#W3sZmlsZQ%3D%3D?line=3'>4</a>\u001b[0m evals_wgangp \u001b[39m=\u001b[39m evals_WGANGP()\n",
      "File \u001b[0;32m~/ETHZ/Master_Arbeit/repo/Master-Arbeit/python_files/GAN2/evals_WGANGP2.py:18\u001b[0m, in \u001b[0;36m<module>\u001b[0;34m\u001b[0m\n\u001b[1;32m     16\u001b[0m \u001b[39m# My imports\u001b[39;00m\n\u001b[1;32m     17\u001b[0m \u001b[39mfrom\u001b[39;00m \u001b[39meigenmanipulation2\u001b[39;00m \u001b[39mimport\u001b[39;00m normalize_evals\n\u001b[0;32m---> 18\u001b[0m \u001b[39mfrom\u001b[39;00m \u001b[39mdata_generation\u001b[39;00m \u001b[39mimport\u001b[39;00m get_evals_batch\n\u001b[1;32m     21\u001b[0m num_channels \u001b[39m=\u001b[39m \u001b[39m1\u001b[39m\n\u001b[1;32m     22\u001b[0m evals_shape \u001b[39m=\u001b[39m (\u001b[39m8\u001b[39m,\u001b[39m8\u001b[39m,\u001b[39m1\u001b[39m)\n",
      "File \u001b[0;32m~/ETHZ/Master_Arbeit/repo/Master-Arbeit/python_files/GAN2/data_generation.py:3\u001b[0m, in \u001b[0;36m<module>\u001b[0;34m\u001b[0m\n\u001b[1;32m      1\u001b[0m \u001b[39mimport\u001b[39;00m \u001b[39mnumpy\u001b[39;00m \u001b[39mas\u001b[39;00m \u001b[39mnp\u001b[39;00m\n\u001b[1;32m      2\u001b[0m \u001b[39mimport\u001b[39;00m \u001b[39mtensorflow\u001b[39;00m \u001b[39mas\u001b[39;00m \u001b[39mtf\u001b[39;00m\n\u001b[0;32m----> 3\u001b[0m \u001b[39mfrom\u001b[39;00m \u001b[39minput_data\u001b[39;00m \u001b[39mimport\u001b[39;00m WishartCSM\n\u001b[1;32m      4\u001b[0m \u001b[39mfrom\u001b[39;00m \u001b[39macoular\u001b[39;00m \u001b[39mimport\u001b[39;00m MicGeom, SteeringVector, ImportGrid\n\u001b[1;32m      7\u001b[0m \u001b[39mdef\u001b[39;00m \u001b[39mget_sample\u001b[39m():    \n\u001b[1;32m      8\u001b[0m     \u001b[39m# create CSM\u001b[39;00m\n",
      "File \u001b[0;32m~/ETHZ/Master_Arbeit/repo/Master-Arbeit/python_files/GAN2/input_data.py:5\u001b[0m, in \u001b[0;36m<module>\u001b[0;34m\u001b[0m\n\u001b[1;32m      3\u001b[0m \u001b[39mfrom\u001b[39;00m \u001b[39mscipy\u001b[39;00m \u001b[39mimport\u001b[39;00m linalg\n\u001b[1;32m      4\u001b[0m \u001b[39mfrom\u001b[39;00m \u001b[39mnumpy\u001b[39;00m\u001b[39m.\u001b[39;00m\u001b[39mrandom\u001b[39;00m \u001b[39mimport\u001b[39;00m RandomState\n\u001b[0;32m----> 5\u001b[0m \u001b[39mfrom\u001b[39;00m \u001b[39macoular\u001b[39;00m \u001b[39mimport\u001b[39;00m SteeringVector, ImportGrid\n\u001b[1;32m      8\u001b[0m \u001b[39mclass\u001b[39;00m \u001b[39mWishartCSM\u001b[39;00m:\n\u001b[1;32m      9\u001b[0m     \u001b[39mdef\u001b[39;00m \u001b[39m__init__\u001b[39m(\u001b[39mself\u001b[39m,mics,f,scale, df, loc, rng\u001b[39m=\u001b[39mRandomState(\u001b[39m1\u001b[39m)):\n",
      "File \u001b[0;32m~/anaconda3/envs/master_arbeit/lib/python3.10/site-packages/acoular/__init__.py:29\u001b[0m, in \u001b[0;36m<module>\u001b[0;34m\u001b[0m\n\u001b[1;32m     26\u001b[0m \u001b[39mexcept\u001b[39;00m:\n\u001b[1;32m     27\u001b[0m     \u001b[39mpass\u001b[39;00m\n\u001b[0;32m---> 29\u001b[0m \u001b[39mfrom\u001b[39;00m \u001b[39m.\u001b[39;00m\u001b[39mtbeamform\u001b[39;00m \u001b[39mimport\u001b[39;00m IntegratorSectorTime, \\\n\u001b[1;32m     30\u001b[0m BeamformerTime, BeamformerTimeSq, BeamformerTimeTraj, BeamformerTimeSqTraj,\\\n\u001b[1;32m     31\u001b[0m BeamformerCleant, BeamformerCleantSq, BeamformerCleantTraj, BeamformerCleantSqTraj\n\u001b[1;32m     32\u001b[0m \u001b[39mfrom\u001b[39;00m \u001b[39m.\u001b[39;00m\u001b[39mtprocess\u001b[39;00m \u001b[39mimport\u001b[39;00m SamplesGenerator, TimeInOut, MaskedTimeInOut, ChannelMixer, \\\n\u001b[1;32m     33\u001b[0m Mixer, TimeAverage, TimeReverse, TimePower, FiltFiltOctave, FiltOctave, TimeCache, \\\n\u001b[1;32m     34\u001b[0m WriteWAV, WriteH5, SpatialInterpolator, SpatialInterpolatorRotation, Trigger, \\\n\u001b[1;32m     35\u001b[0m SampleSplitter, AngleTracker, SpatialInterpolatorConstantRotation, Filter, \\\n\u001b[1;32m     36\u001b[0m TimeExpAverage, FiltFreqWeight, TimeCumAverage, FilterBank, OctaveFilterBank, TimeConvolve\n\u001b[1;32m     37\u001b[0m \u001b[39mfrom\u001b[39;00m \u001b[39m.\u001b[39;00m\u001b[39mcalib\u001b[39;00m \u001b[39mimport\u001b[39;00m Calib\n",
      "File \u001b[0;32m~/anaconda3/envs/master_arbeit/lib/python3.10/site-packages/acoular/tbeamform.py:37\u001b[0m, in \u001b[0;36m<module>\u001b[0;34m\u001b[0m\n\u001b[1;32m     35\u001b[0m \u001b[39mfrom\u001b[39;00m \u001b[39m.\u001b[39;00m\u001b[39mgrids\u001b[39;00m \u001b[39mimport\u001b[39;00m RectGrid\n\u001b[1;32m     36\u001b[0m \u001b[39mfrom\u001b[39;00m \u001b[39m.\u001b[39;00m\u001b[39mtrajectory\u001b[39;00m \u001b[39mimport\u001b[39;00m Trajectory\n\u001b[0;32m---> 37\u001b[0m \u001b[39mfrom\u001b[39;00m \u001b[39m.\u001b[39;00m\u001b[39mtprocess\u001b[39;00m \u001b[39mimport\u001b[39;00m TimeInOut\n\u001b[1;32m     38\u001b[0m \u001b[39mfrom\u001b[39;00m \u001b[39m.\u001b[39;00m\u001b[39mfbeamform\u001b[39;00m \u001b[39mimport\u001b[39;00m SteeringVector, L_p\n\u001b[1;32m     39\u001b[0m \u001b[39mfrom\u001b[39;00m \u001b[39m.\u001b[39;00m\u001b[39mtfastfuncs\u001b[39;00m \u001b[39mimport\u001b[39;00m _delayandsum4, _delayandsum5, \\\n\u001b[1;32m     40\u001b[0m     _steer_I, _steer_II, _steer_III, _steer_IV, _delays, _modf\n",
      "File \u001b[0;32m~/anaconda3/envs/master_arbeit/lib/python3.10/site-packages/acoular/tprocess.py:56\u001b[0m, in \u001b[0;36m<module>\u001b[0;34m\u001b[0m\n\u001b[1;32m     51\u001b[0m \u001b[39mfrom\u001b[39;00m \u001b[39mtraits\u001b[39;00m\u001b[39m.\u001b[39;00m\u001b[39mapi\u001b[39;00m \u001b[39mimport\u001b[39;00m HasPrivateTraits, Float, Int, CLong, Bool, ListInt, \\\n\u001b[1;32m     52\u001b[0m Constant, File, Property, Instance, Trait, Delegate, \\\n\u001b[1;32m     53\u001b[0m cached_property, on_trait_change, List, CArray, Dict, PrefixMap, Callable\n\u001b[1;32m     55\u001b[0m \u001b[39mfrom\u001b[39;00m \u001b[39mscipy\u001b[39;00m\u001b[39m.\u001b[39;00m\u001b[39mfft\u001b[39;00m \u001b[39mimport\u001b[39;00m rfft, irfft\n\u001b[0;32m---> 56\u001b[0m \u001b[39mimport\u001b[39;00m \u001b[39mnumba\u001b[39;00m \u001b[39mas\u001b[39;00m \u001b[39mnb\u001b[39;00m\n\u001b[1;32m     58\u001b[0m \u001b[39mfrom\u001b[39;00m \u001b[39mdatetime\u001b[39;00m \u001b[39mimport\u001b[39;00m datetime\n\u001b[1;32m     59\u001b[0m \u001b[39mfrom\u001b[39;00m \u001b[39mos\u001b[39;00m \u001b[39mimport\u001b[39;00m path\n",
      "File \u001b[0;32m~/anaconda3/envs/master_arbeit/lib/python3.10/site-packages/numba/__init__.py:200\u001b[0m, in \u001b[0;36m<module>\u001b[0;34m\u001b[0m\n\u001b[1;32m    197\u001b[0m     \u001b[39mreturn\u001b[39;00m \u001b[39mFalse\u001b[39;00m\n\u001b[1;32m    199\u001b[0m _ensure_llvm()\n\u001b[0;32m--> 200\u001b[0m _ensure_critical_deps()\n\u001b[1;32m    202\u001b[0m \u001b[39m# we know llvmlite is working as the above tests passed, import it now as SVML\u001b[39;00m\n\u001b[1;32m    203\u001b[0m \u001b[39m# needs to mutate runtime options (sets the `-vector-library`).\u001b[39;00m\n\u001b[1;32m    204\u001b[0m \u001b[39mimport\u001b[39;00m \u001b[39mllvmlite\u001b[39;00m\n",
      "File \u001b[0;32m~/anaconda3/envs/master_arbeit/lib/python3.10/site-packages/numba/__init__.py:140\u001b[0m, in \u001b[0;36m_ensure_critical_deps\u001b[0;34m()\u001b[0m\n\u001b[1;32m    138\u001b[0m     \u001b[39mraise\u001b[39;00m \u001b[39mImportError\u001b[39;00m(\u001b[39m\"\u001b[39m\u001b[39mNumba needs NumPy 1.18 or greater\u001b[39m\u001b[39m\"\u001b[39m)\n\u001b[1;32m    139\u001b[0m \u001b[39melif\u001b[39;00m numpy_version \u001b[39m>\u001b[39m (\u001b[39m1\u001b[39m, \u001b[39m21\u001b[39m):\n\u001b[0;32m--> 140\u001b[0m     \u001b[39mraise\u001b[39;00m \u001b[39mImportError\u001b[39;00m(\u001b[39m\"\u001b[39m\u001b[39mNumba needs NumPy 1.21 or less\u001b[39m\u001b[39m\"\u001b[39m)\n\u001b[1;32m    142\u001b[0m \u001b[39mtry\u001b[39;00m:\n\u001b[1;32m    143\u001b[0m     \u001b[39mimport\u001b[39;00m \u001b[39mscipy\u001b[39;00m\n",
      "\u001b[0;31mImportError\u001b[0m: Numba needs NumPy 1.21 or less"
     ]
    }
   ],
   "source": [
    "from evals_WGANGP2 import evals_WGANGP\n",
    "\n",
    "# Creating GAN\n",
    "evals_wgangp = evals_WGANGP()"
   ]
  },
  {
   "cell_type": "code",
   "execution_count": null,
   "metadata": {},
   "outputs": [],
   "source": [
    "evals_wgangp.train(n_epoch=3)"
   ]
  },
  {
   "cell_type": "code",
   "execution_count": 4,
   "metadata": {},
   "outputs": [
    {
     "ename": "NameError",
     "evalue": "name 'evals_wgangp' is not defined",
     "output_type": "error",
     "traceback": [
      "\u001b[0;31m---------------------------------------------------------------------------\u001b[0m",
      "\u001b[0;31mNameError\u001b[0m                                 Traceback (most recent call last)",
      "\u001b[1;32m/home/gaspard/ETHZ/Master_Arbeit/repo/Master-Arbeit/python_files/GAN2/notebook2.ipynb Cellule 6\u001b[0m in \u001b[0;36m<cell line: 4>\u001b[0;34m()\u001b[0m\n\u001b[1;32m      <a href='vscode-notebook-cell:/home/gaspard/ETHZ/Master_Arbeit/repo/Master-Arbeit/python_files/GAN2/notebook2.ipynb#W5sZmlsZQ%3D%3D?line=0'>1</a>\u001b[0m \u001b[39mimport\u001b[39;00m \u001b[39mnumpy\u001b[39;00m \u001b[39mas\u001b[39;00m \u001b[39mnp\u001b[39;00m\n\u001b[1;32m      <a href='vscode-notebook-cell:/home/gaspard/ETHZ/Master_Arbeit/repo/Master-Arbeit/python_files/GAN2/notebook2.ipynb#W5sZmlsZQ%3D%3D?line=1'>2</a>\u001b[0m \u001b[39mimport\u001b[39;00m \u001b[39mmatplotlib\u001b[39;00m\u001b[39m.\u001b[39;00m\u001b[39mpyplot\u001b[39;00m \u001b[39mas\u001b[39;00m \u001b[39mplt\u001b[39;00m\n\u001b[0;32m----> <a href='vscode-notebook-cell:/home/gaspard/ETHZ/Master_Arbeit/repo/Master-Arbeit/python_files/GAN2/notebook2.ipynb#W5sZmlsZQ%3D%3D?line=3'>4</a>\u001b[0m is_real, sample \u001b[39m=\u001b[39m evals_wgangp\u001b[39m.\u001b[39mgenerate_evals()\n\u001b[1;32m      <a href='vscode-notebook-cell:/home/gaspard/ETHZ/Master_Arbeit/repo/Master-Arbeit/python_files/GAN2/notebook2.ipynb#W5sZmlsZQ%3D%3D?line=4'>5</a>\u001b[0m sample \u001b[39m=\u001b[39m np\u001b[39m.\u001b[39msort(np\u001b[39m.\u001b[39marray(sample[\u001b[39m0\u001b[39m, :, :, \u001b[39m0\u001b[39m])\u001b[39m.\u001b[39mflatten()) \u001b[39m# convert sample from (1,8,8,1) to (64,)\u001b[39;00m\n\u001b[1;32m      <a href='vscode-notebook-cell:/home/gaspard/ETHZ/Master_Arbeit/repo/Master-Arbeit/python_files/GAN2/notebook2.ipynb#W5sZmlsZQ%3D%3D?line=5'>6</a>\u001b[0m sample_dB \u001b[39m=\u001b[39m \u001b[39m10\u001b[39m\u001b[39m*\u001b[39mnp\u001b[39m.\u001b[39mlog10(sample)\n",
      "\u001b[0;31mNameError\u001b[0m: name 'evals_wgangp' is not defined"
     ]
    }
   ],
   "source": [
    "import numpy as np\n",
    "import matplotlib.pyplot as plt\n",
    "\n",
    "is_real, sample = evals_wgangp.generate_evals()\n",
    "sample = np.sort(np.array(sample[0, :, :, 0]).flatten()) # convert sample from (1,8,8,1) to (64,)\n",
    "sample_dB = 10*np.log10(sample)\n",
    "\n",
    "\n",
    "if is_real:\n",
    "    plt.title(\"generated sample, detected as real\")\n",
    "    plt.plot(sample_dB)\n",
    "else:\n",
    "    plt.title(\"generated sample, detected as fake\")\n",
    "    plt.plot(sample_dB)    "
   ]
  },
  {
   "cell_type": "markdown",
   "metadata": {},
   "source": [
    "### WGANGP to generate eigenvectors"
   ]
  },
  {
   "cell_type": "code",
   "execution_count": null,
   "metadata": {},
   "outputs": [],
   "source": [
    "from evecs_WGANGP2 import evecs_WGANGP\n",
    "\n",
    "# Creating GAN\n",
    "evecs_wgangp = evecs_WGANGP()"
   ]
  },
  {
   "cell_type": "code",
   "execution_count": null,
   "metadata": {},
   "outputs": [],
   "source": [
    "evecs_wgangp.train(n_epoch=2)"
   ]
  },
  {
   "cell_type": "code",
   "execution_count": null,
   "metadata": {},
   "outputs": [],
   "source": [
    "import numpy as np\n",
    "import matplotlib.pyplot as plt\n",
    "\n",
    "is_real, sample = evecs_wgangp.generate_evecs()\n",
    "print(sample.shape)\n",
    "\n",
    "sample_real = sample[0, :, :, 0] # get real part from sample\n",
    "sample_imag = sample[0, :, :, 1] # get imaginary part from sample\n",
    "\n",
    "if is_real:\n",
    "\n",
    "    fig = plt.figure(figsize=(15,5))\n",
    "\n",
    "    plt.subplot(1,2,1)\n",
    "    plt.title(\"Real part\")\n",
    "    plt.imshow(sample_real)\n",
    "\n",
    "    plt.subplot(1,2,2)\n",
    "    plt.title(\"Imaginary part\")\n",
    "    plt.imshow(sample_imag)\n",
    "\n",
    "    fig.suptitle('Sample detect as real', fontsize=16)\n",
    "\n",
    "    \n",
    "else:\n",
    "    fig = plt.figure(figsize=(15,5))\n",
    "\n",
    "    plt.subplot(1,2,1)\n",
    "    plt.title(\"Real part\")\n",
    "    plt.imshow(sample_real)\n",
    "\n",
    "    plt.subplot(1,2,2)\n",
    "    plt.title(\"Imaginary part\")\n",
    "    plt.imshow(sample_imag)\n",
    "\n",
    "    fig.suptitle('Sample detect as fake', fontsize=16)\n"
   ]
  },
  {
   "cell_type": "markdown",
   "metadata": {},
   "source": [
    "### Check validity of obtained data\n",
    "\n",
    "- Use both WGAN-GPs to generate eigenvalues and eigenvectors\n",
    "- Use the eigendecomposition formula to recreate (scaled) CSM\n",
    "- Use obtained CSM to perform beamforming"
   ]
  },
  {
   "cell_type": "code",
   "execution_count": null,
   "metadata": {},
   "outputs": [],
   "source": [
    "from beamforming import beamform, get_csm\n",
    "\n",
    "evals_are_real, generated_evals = evals_wgangp.generate_evals()\n",
    "evecs_are_real, generated_evecs = evecs_wgangp.generate_evecs()\n",
    "\n",
    "#if evals_are_real and evecs_are_real:\n",
    "    \n",
    "# reshape data\n",
    "evals_vec_numpy = np.sort(np.array(generated_evals[0, :, :, 0]).flatten())\n",
    "evals_vec = tf.convert_to_tensor(evals_vec_numpy)\n",
    "evecs_real = generated_evecs[0, :, :, 0] # get real part from sample\n",
    "evecs_imag = generated_evecs[0, :, :, 1] # get imaginary part from sample\n",
    "\n",
    "print(\"-=-=-=-=-=-=-=-=-=-=-=-=-\")\n",
    "print(f\"real_evecs_real.shape={evecs_real.shape}\")\n",
    "print(f\"real_evecs_imag.shape={evecs_imag.shape}\")\n",
    "print(f\"tmp_evals_vec.shape={evals_vec.shape}\")\n",
    "print(\"-=-=-=-=-=-=-=-=-=-=-=-=-\")\n",
    "\n",
    "\n",
    "csm = get_csm(evecs_real, evecs_imag, evals_vec).numpy()\n",
    "\n",
    "#print(dir(csm))\n",
    "\n",
    "NUMFREQ = 1 # one freq with index bin = 13 ? -> is that accurate ?\n",
    "NUMCHANNELS = 64\n",
    "    \n",
    "\n",
    "csm = np.reshape(csm, newshape=(NUMFREQ,NUMCHANNELS,NUMCHANNELS))\n",
    "\n",
    "beamform(csm)\n",
    "\n"
   ]
  },
  {
   "cell_type": "markdown",
   "metadata": {},
   "source": [
    "### Data Augmentation "
   ]
  },
  {
   "cell_type": "code",
   "execution_count": null,
   "metadata": {},
   "outputs": [],
   "source": [
    "from data_augmentation import get_augmentented_dataset\n",
    "\n",
    "get_augmentented_dataset(n_epoch=1245, size_augmentation=3, size_original_datasets=10)"
   ]
  },
  {
   "cell_type": "markdown",
   "metadata": {},
   "source": [
    "### GRIDSEARCH: GAN to generate eigenvalues"
   ]
  },
  {
   "cell_type": "code",
   "execution_count": null,
   "metadata": {},
   "outputs": [],
   "source": [
    "from tensorflow import summary\n",
    "from evals_GAN2 import evals_GAN\n",
    "\n",
    "lr_list = [5e-7, 1e-7, 5e-8, 1e-8, 5e-9, 1e-9]\n",
    "#lr_list = [1e-10, 1e-11, 1e-12]\n",
    "beta_1_list = [0.9, 0.8, 0.7, 0.6, 0.5, 0.4, 0.3, 0.2, 0.1]\n",
    "\n",
    "for lr in lr_list:\n",
    "    for beta_1 in beta_1_list:\n",
    "        \n",
    "        print(f\"lr={lr}, beta_1={beta_1}\")\n",
    "        \n",
    "        evals_gan = evals_GAN(lr, beta_1, summary=False) # Creating GAN\n",
    "        evals_gan.train(evals_dataset=evals_dataset, n_epoch=500, print_epoch=False) # Training the GAN\n",
    "\n",
    "        # Plotting sampled eigenvalues \n",
    "        is_real, sample = evals_gan.get_evals()\n",
    "        \n",
    "        fig = plt.figure()\n",
    "\n",
    "        if is_real:\n",
    "            plt.title(f\"generated sample, detected as real, lr={lr}, b={beta_1}\")\n",
    "            plt.plot(np.sort(np.array(sample)[0]))\n",
    "        else:\n",
    "            plt.title(f\"generated sample, detected as fake, lr={lr}, b={beta_1}\")\n",
    "            plt.plot(np.sort(np.array(sample)[0]))"
   ]
  },
  {
   "cell_type": "code",
   "execution_count": null,
   "metadata": {},
   "outputs": [],
   "source": [
    "# Grid search 2\n",
    "#from tensorflow import summary\n",
    "from evals_GAN2 import evals_GAN\n",
    "\n",
    "lr_list = [1e-9, 1e-9, 1e-8, 1e-7, 1e-7]\n",
    "beta_1_list = [0.5, 0.7, 0.2, 0.1, 0.9]\n",
    "\n",
    "n_epoch=250\n",
    "\n",
    "for lr, beta_1 in zip(lr_list, beta_1_list):\n",
    "    \n",
    "    print(f\"lr={lr}, beta_1={beta_1}\")\n",
    "    \n",
    "    evals_gan = evals_GAN(lr, beta_1, summary=False) # Creating GAN\n",
    "    evals_gan.train(evals_dataset=evals_dataset, n_epoch=n_epoch, print_epoch=False) # Training the GAN\n",
    "\n",
    "    # Plotting sampled eigenvalues \n",
    "    is_real, sample = evals_gan.get_evals()\n",
    "    \n",
    "    fig = plt.figure()\n",
    "\n",
    "    if is_real:\n",
    "        plt.title(f\"generated sample, detected as real, lr={lr}, b={beta_1}\")\n",
    "        plt.plot(np.sort(np.array(sample)[0]))\n",
    "    else:\n",
    "        plt.title(f\"generated sample, detected as fake, lr={lr}, b={beta_1}\")\n",
    "        plt.plot(np.sort(np.array(sample)[0]))\n",
    "    \n",
    "# runtime   : 1000 epochs  : approx 5min30\n",
    "# runtime   : 250 epochs   : approx 1min30"
   ]
  },
  {
   "cell_type": "markdown",
   "metadata": {},
   "source": [
    "### GAN to generate eigenvalues"
   ]
  },
  {
   "cell_type": "code",
   "execution_count": null,
   "metadata": {},
   "outputs": [],
   "source": [
    "from evals_GAN2 import evals_GAN\n",
    "\n",
    "# Creating GAN\n",
    "evals_gan = evals_GAN()\n",
    "\n",
    "# Training the GAN\n",
    "evals_gan.train(evals_dataset=evals_dataset, n_epoch=100)"
   ]
  },
  {
   "cell_type": "code",
   "execution_count": null,
   "metadata": {},
   "outputs": [],
   "source": [
    "# Plotting sampled eigenvalues \n",
    "is_real, sample = evals_gan.get_evals()\n",
    "\n",
    "if is_real:\n",
    "    plt.title(\"generated sample, detected as real\")\n",
    "    plt.plot(np.sort(np.array(sample)[0]))\n",
    "else:\n",
    "    plt.title(\"generated sample, detected as fake\")\n",
    "    plt.plot(np.sort(np.array(sample)[0]))"
   ]
  },
  {
   "cell_type": "markdown",
   "metadata": {},
   "source": [
    "### DCGAN to generate eigenvalues"
   ]
  },
  {
   "cell_type": "code",
   "execution_count": null,
   "metadata": {},
   "outputs": [],
   "source": [
    "from evals_DCGAN2 import evals_DCGAN\n",
    "\n",
    "# Creating GAN\n",
    "evals_dcgan = evals_DCGAN()\n",
    "\n",
    "# Training the GAN\n",
    "evals_dcgan.train(evals_dataset=evals_dataset, n_epoch=300)"
   ]
  },
  {
   "cell_type": "code",
   "execution_count": null,
   "metadata": {},
   "outputs": [],
   "source": [
    "# Plotting sampled eigenvalues \n",
    "is_real, sample = evals_dcgan.get_evals()\n",
    "\n",
    "if is_real:\n",
    "    plt.title(\"generated sample, detected as real\")\n",
    "    plt.plot(np.sort(np.array(sample)[0]))\n",
    "else:\n",
    "    plt.title(\"generated sample, detected as fake\")\n",
    "    plt.plot(np.sort(np.array(sample)[0]))"
   ]
  },
  {
   "cell_type": "markdown",
   "metadata": {},
   "source": [
    "### WGAN to generate eigenvectors "
   ]
  },
  {
   "cell_type": "code",
   "execution_count": null,
   "metadata": {},
   "outputs": [],
   "source": [
    "from evecs_WGAN2 import evecs_WGAN\n",
    "\n",
    "# Creating WGAN\n",
    "evecs_wgan = evecs_WGAN()"
   ]
  },
  {
   "cell_type": "code",
   "execution_count": null,
   "metadata": {},
   "outputs": [],
   "source": [
    "evecs_wgan.train(evecs_dataset=evecs_dataset, n_epoch=1000)"
   ]
  },
  {
   "cell_type": "code",
   "execution_count": null,
   "metadata": {},
   "outputs": [],
   "source": [
    "sample = evecs_wgan.get_evecs()"
   ]
  },
  {
   "cell_type": "code",
   "execution_count": null,
   "metadata": {},
   "outputs": [],
   "source": []
  }
 ],
 "metadata": {
  "kernelspec": {
   "display_name": "Python 3.10.4 ('master_arbeit')",
   "language": "python",
   "name": "python3"
  },
  "language_info": {
   "codemirror_mode": {
    "name": "ipython",
    "version": 3
   },
   "file_extension": ".py",
   "mimetype": "text/x-python",
   "name": "python",
   "nbconvert_exporter": "python",
   "pygments_lexer": "ipython3",
   "version": "3.10.4"
  },
  "orig_nbformat": 4,
  "vscode": {
   "interpreter": {
    "hash": "d46cea35c42c054183b6642d4f981f16f79b8ccebc5e48374ba9e6e0f8016689"
   }
  }
 },
 "nbformat": 4,
 "nbformat_minor": 2
}
