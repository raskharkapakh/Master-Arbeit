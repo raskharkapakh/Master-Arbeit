{
 "cells": [
  {
   "cell_type": "markdown",
   "metadata": {},
   "source": [
    "### Init: importing libraries and creating datasets"
   ]
  },
  {
   "cell_type": "code",
   "execution_count": 1,
   "metadata": {},
   "outputs": [],
   "source": [
    "# Imports\n",
    "import tensorflow as tf # tensorflow 2.10\n",
    "import numpy as np # numpy 1.21.5\n",
    "import matplotlib.pyplot as plt\n",
    "from data_generation import get_sample\n",
    "from evals_WGANGP import evals_WGANGP\n",
    "from evecs_WGANGP import evecs_WGANGP\n",
    "import datetime\n",
    "\n",
    "# General variable\n",
    "BATCH_SIZE = 16\n",
    "NB_BATCH = 10\n",
    "TRAINING_SET_SIZE = BATCH_SIZE*NB_BATCH\n",
    "NB_STEPS = 5"
   ]
  },
  {
   "cell_type": "code",
   "execution_count": 2,
   "metadata": {},
   "outputs": [
    {
     "name": "stderr",
     "output_type": "stream",
     "text": [
      "2022-11-15 14:55:41.315901: I tensorflow/core/platform/cpu_feature_guard.cc:193] This TensorFlow binary is optimized with oneAPI Deep Neural Network Library (oneDNN) to use the following CPU instructions in performance-critical operations:  SSE4.1 SSE4.2 AVX AVX2 FMA\n",
      "To enable them in other operations, rebuild TensorFlow with the appropriate compiler flags.\n",
      "2022-11-15 14:55:41.316406: I tensorflow/core/common_runtime/process_util.cc:146] Creating new thread pool with default inter op setting: 2. Tune using inter_op_parallelism_threads for best performance.\n"
     ]
    }
   ],
   "source": [
    "# Generating dataset\n",
    "sample_dataset = [get_sample() for _ in range(TRAINING_SET_SIZE)]\n",
    "evecs_dataset = tf.convert_to_tensor([s[0] for s in sample_dataset])\n",
    "evals_dataset = tf.convert_to_tensor([s[1] for s in sample_dataset])"
   ]
  },
  {
   "cell_type": "code",
   "execution_count": null,
   "metadata": {},
   "outputs": [],
   "source": [
    "# Print evals critic model:\n",
    "evals_wgangp = evals_WGANGP()\n",
    "evals_wgangp.compile()\n",
    "\n",
    "model_critic_evals = evals_wgangp.critic\n",
    "model_generator_evals = evals_wgangp.generator\n",
    "\n",
    "evecs_wgangp = evecs_WGANGP()\n",
    "evecs_wgangp.compile()\n",
    "\n",
    "model_critic_evecs = evecs_wgangp.critic\n",
    "model_generator_evecs = evecs_wgangp.generator\n",
    "\n",
    "models = [  (model_critic_evals, \"model_critic_evals\"), \n",
    "            (model_generator_evals, \"model_generator_evals\"),\n",
    "            (model_critic_evecs, \"model_critic_evecs\"),\n",
    "            (model_generator_evecs,\"model_generator_evecs\")\n",
    "        ]\n",
    "\n",
    "for model, name in models:\n",
    "    tf.keras.utils.plot_model(\n",
    "        model,\n",
    "        to_file=f\"{name}.png\",\n",
    "        show_shapes=False,\n",
    "        show_dtype=False,\n",
    "        show_layer_names=True,\n",
    "        rankdir=\"TB\",\n",
    "        expand_nested=False,\n",
    "        dpi=96,\n",
    "        layer_range=None,\n",
    "        show_layer_activations=False,\n",
    "    ) "
   ]
  },
  {
   "cell_type": "markdown",
   "metadata": {},
   "source": [
    "### Print example of eigenvalues"
   ]
  },
  {
   "cell_type": "code",
   "execution_count": null,
   "metadata": {},
   "outputs": [],
   "source": [
    "from eigenmanipulation import normalize_evals\n",
    "import random\n",
    "\n",
    "\n",
    "random_index = random.randint(0, evals_dataset.shape[0]-1)\n",
    "print(f\"index={random_index}\")\n",
    "eval_ex = normalize_evals(evals_dataset[random_index])\n",
    "eval_ex = np.sort(np.array(eval_ex[:, :, 0]).flatten())\n",
    "eval_ex_dB = 10*np.log10(eval_ex)\n",
    "\n",
    "fig = plt.figure(figsize=(15,5))\n",
    "\n",
    "plt.subplot(1,2,1)\n",
    "plt.title(\"Normalized value\")\n",
    "plt.plot(eval_ex)\n",
    "\n",
    "plt.subplot(1,2,2)\n",
    "plt.title(\"in dB\")\n",
    "plt.plot(eval_ex_dB)\n",
    "\n",
    "fig.suptitle('Generated eigenvalues', fontsize=16)"
   ]
  },
  {
   "cell_type": "code",
   "execution_count": null,
   "metadata": {},
   "outputs": [],
   "source": [
    "from eigenmanipulation import normalize_evecs\n",
    "import random\n",
    "\n",
    "\n",
    "random_index = random.randint(0, evecs_dataset.shape[0]-1)\n",
    "print(f\"index={random_index}\")\n",
    "evec_ex = normalize_evals(evecs_dataset[random_index])\n",
    "\n",
    "evec_ex_real = evec_ex[:, :, 0] # get real part from sample\n",
    "evec_ex_imag = evec_ex[:, :, 1] # get imaginary part from sample\n",
    "\n",
    "\n",
    "fig = plt.figure(figsize=(15,5))\n",
    "\n",
    "plt.subplot(1,2,1)\n",
    "plt.title(\"Real part\")\n",
    "plt.imshow(evec_ex_real)\n",
    "\n",
    "plt.subplot(1,2,2)\n",
    "plt.title(\"Imaginary part\")\n",
    "plt.imshow(evec_ex_imag)\n",
    "\n",
    "fig.suptitle('Eigenvectors from dataset', fontsize=16)"
   ]
  },
  {
   "cell_type": "markdown",
   "metadata": {},
   "source": [
    "### Print example of eigenvectors"
   ]
  },
  {
   "cell_type": "markdown",
   "metadata": {},
   "source": [
    "### Initiating and training WGAN-GP for eigenvectors"
   ]
  },
  {
   "cell_type": "code",
   "execution_count": null,
   "metadata": {},
   "outputs": [],
   "source": [
    "# Generating eigenvectors\n",
    "\n",
    "# Creating GAN\n",
    "evecs_wgangp = evecs_WGANGP()\n",
    "\n",
    "# Compiling GAN\n",
    "evecs_wgangp.compile()\n",
    "\n",
    "# Creating tensorboard callback\n",
    "log_dir = \"logs/evecs_wgangp_\" + datetime.datetime.now().strftime(\"%Y%m%d-%H%M%S\")\n",
    "tensorboard_callback = tf.keras.callbacks.TensorBoard(log_dir=log_dir, histogram_freq=1)\n",
    "\n",
    "# Training GAN\n",
    "evecs_wgangp.fit(\n",
    "    evecs_dataset,\n",
    "    batch_size=BATCH_SIZE,\n",
    "    epochs=NB_BATCH,\n",
    "    steps_per_epoch=NB_STEPS,\n",
    "    callbacks=[tensorboard_callback]\n",
    ")\n",
    "# time for epoch=100, step=1, batch_size=16 -> approx 15min."
   ]
  },
  {
   "cell_type": "code",
   "execution_count": null,
   "metadata": {},
   "outputs": [],
   "source": [
    "# Creating and plotting fake sample\n",
    "_, evecs = evecs_wgangp.generate_evecs(nb_trial=10)\n",
    "\n",
    "evecs_real = evecs[0, :, :, 0] # get real part from sample\n",
    "evecs_imag = evecs[0, :, :, 1] # get imaginary part from sample\n",
    "\n",
    "\n",
    "fig = plt.figure(figsize=(15,5))\n",
    "\n",
    "plt.subplot(1,2,1)\n",
    "plt.title(\"Real part\")\n",
    "plt.imshow(evecs_real)\n",
    "\n",
    "plt.subplot(1,2,2)\n",
    "plt.title(\"Imaginary part\")\n",
    "plt.imshow(evecs_imag)\n",
    "\n",
    "fig.suptitle('Eigenvectors', fontsize=16)\n"
   ]
  },
  {
   "cell_type": "markdown",
   "metadata": {},
   "source": [
    "### Initiating and training WGAN-GP for eigenvalues"
   ]
  },
  {
   "cell_type": "code",
   "execution_count": null,
   "metadata": {},
   "outputs": [],
   "source": [
    "# Generating eigenvalues\n",
    "\n",
    "# Creating GAN\n",
    "evals_wgangp = evals_WGANGP()\n",
    "\n",
    "# Compiling GAN\n",
    "evals_wgangp.compile()\n",
    "\n",
    "# Creating tensorboard callback\n",
    "log_dir = \"logs/fit/evals_wgangp_\" + datetime.datetime.now().strftime(\"%Y%m%d-%H%M%S\")\n",
    "tensorboard_callback = tf.keras.callbacks.TensorBoard(log_dir=log_dir, histogram_freq=1)\n",
    "\n",
    "# Training GAN\n",
    "evals_wgangp.fit(\n",
    "    evals_dataset,\n",
    "    batch_size=BATCH_SIZE,\n",
    "    epochs=NB_BATCH,\n",
    "    steps_per_epoch=NB_STEPS,\n",
    "    callbacks=[tensorboard_callback]\n",
    ")\n",
    "\n",
    "\n",
    "\n",
    "# time for epoch=100, step=5, batch_size=16 -> approx 18min.\n",
    "# time for epoch=100, step=10, batch_size=16 -> approx 32min.\n",
    "# time for epoch=100, step=20, batch_size=16 -> approx _min."
   ]
  },
  {
   "cell_type": "code",
   "execution_count": null,
   "metadata": {},
   "outputs": [],
   "source": [
    "# Creating and plotting fake sample\n",
    "_, evals = evals_wgangp.generate_evals(nb_trial=10)\n",
    "\n",
    "evals = np.sort(np.array(evals[0, :, :, 0]).flatten()) # convert sample from (1,8,8,1) to (64,)\n",
    "evals_dB = 10*np.log10(evals)\n",
    "\n",
    "fig = plt.figure(figsize=(15,5))\n",
    "\n",
    "plt.subplot(1,2,1)\n",
    "plt.title(\"Normalized value\")\n",
    "plt.plot(evals)\n",
    "\n",
    "plt.subplot(1,2,2)\n",
    "plt.title(\"in dB\")\n",
    "plt.plot(evals_dB)\n",
    "\n",
    "fig.suptitle('Eigenvalues', fontsize=16)"
   ]
  },
  {
   "cell_type": "code",
   "execution_count": null,
   "metadata": {},
   "outputs": [],
   "source": [
    "%tensorboard --logdir logs"
   ]
  },
  {
   "cell_type": "markdown",
   "metadata": {},
   "source": [
    "### Performing Beamforming with generated samples"
   ]
  },
  {
   "cell_type": "code",
   "execution_count": null,
   "metadata": {},
   "outputs": [],
   "source": [
    "from beamforming import beamform, get_csm\n",
    "\n",
    "_, generated_evals = evals_wgangp.generate_evals(nb_trial=10)\n",
    "_, generated_evecs = evecs_wgangp.generate_evecs(nb_trial=10)\n",
    "\n",
    "# reshape data\n",
    "evals_vec_numpy = np.sort(np.array(generated_evals[0, :, :, 0]).flatten())\n",
    "evals_vec = tf.convert_to_tensor(evals_vec_numpy)\n",
    "evecs_real = generated_evecs[0, :, :, 0] # get real part from sample\n",
    "evecs_imag = generated_evecs[0, :, :, 1] # get imaginary part from sample\n",
    "\n",
    "\"\"\"\n",
    "print(\"-=-=-=-=-=-=-=-=-=-=-=-=-\")\n",
    "print(f\"real_evecs_real.shape={evecs_real.shape}\")\n",
    "print(f\"real_evecs_imag.shape={evecs_imag.shape}\")\n",
    "print(f\"tmp_evals_vec.shape={evals_vec.shape}\")\n",
    "print(\"-=-=-=-=-=-=-=-=-=-=-=-=-\")\n",
    "\"\"\"\n",
    "\n",
    "csm = get_csm(evecs_real, evecs_imag, evals_vec).numpy()\n",
    "\n",
    "NUMFREQ = 1 # one freq with index bin = 13 ? -> is that accurate ?\n",
    "NUMCHANNELS = 64\n",
    "\n",
    "csm = np.reshape(csm, newshape=(NUMFREQ,NUMCHANNELS,NUMCHANNELS))\n",
    "\n",
    "beamform(csm)"
   ]
  },
  {
   "cell_type": "markdown",
   "metadata": {},
   "source": [
    "### Data augmentation "
   ]
  },
  {
   "cell_type": "code",
   "execution_count": 3,
   "metadata": {},
   "outputs": [
    {
     "name": "stdout",
     "output_type": "stream",
     "text": [
      "Epoch 1/10\n",
      "5/5 [==============================] - 16s 2s/step - c_loss: 3.8063 - g_loss: 0.6490\n",
      "Epoch 2/10\n",
      "5/5 [==============================] - 10s 2s/step - c_loss: -3.3526 - g_loss: 3.9465\n",
      "Epoch 3/10\n",
      "5/5 [==============================] - 10s 2s/step - c_loss: -4.8732 - g_loss: 5.2366\n",
      "Epoch 4/10\n",
      "5/5 [==============================] - 10s 2s/step - c_loss: -4.9593 - g_loss: 5.5704\n",
      "Epoch 5/10\n",
      "5/5 [==============================] - 11s 2s/step - c_loss: -4.9109 - g_loss: 5.4360\n",
      "Epoch 6/10\n",
      "5/5 [==============================] - 11s 2s/step - c_loss: -5.1621 - g_loss: 5.5429\n",
      "Epoch 7/10\n",
      "5/5 [==============================] - 10s 2s/step - c_loss: -5.0711 - g_loss: 5.6582\n",
      "Epoch 8/10\n",
      "5/5 [==============================] - 11s 2s/step - c_loss: -4.9319 - g_loss: 5.4181\n",
      "Epoch 9/10\n",
      "5/5 [==============================] - 14s 3s/step - c_loss: -4.9488 - g_loss: 5.4717\n",
      "Epoch 10/10\n",
      "5/5 [==============================] - 13s 3s/step - c_loss: -5.1181 - g_loss: 5.6444\n",
      "(64, 64, 2)\n",
      "=========== 0 ===========\n",
      "1/1 [==============================] - 1s 565ms/step\n",
      "tf.Tensor(-5.0673337, shape=(), dtype=float32)\n",
      "no real eigenvalues found\n",
      "1/1 [==============================] - 0s 134ms/step\n",
      "tf.Tensor(-6.1190753, shape=(), dtype=float32)\n",
      "no real eigenvalues found\n",
      "1/1 [==============================] - 0s 70ms/step\n",
      "tf.Tensor(-5.517338, shape=(), dtype=float32)\n",
      "no real eigenvalues found\n",
      "1/1 [==============================] - 0s 56ms/step\n",
      "tf.Tensor(-4.8287306, shape=(), dtype=float32)\n",
      "no real eigenvalues found\n",
      "1/1 [==============================] - 0s 88ms/step\n",
      "tf.Tensor(-4.246478, shape=(), dtype=float32)\n",
      "no real eigenvalues found\n",
      "1/1 [==============================] - 0s 103ms/step\n",
      "tf.Tensor(-5.0481305, shape=(), dtype=float32)\n",
      "no real eigenvalues found\n",
      "1/1 [==============================] - 0s 81ms/step\n",
      "tf.Tensor(-5.012298, shape=(), dtype=float32)\n",
      "no real eigenvalues found\n",
      "1/1 [==============================] - 0s 53ms/step\n",
      "tf.Tensor(-5.7042747, shape=(), dtype=float32)\n",
      "no real eigenvalues found\n",
      "1/1 [==============================] - 0s 55ms/step\n",
      "tf.Tensor(-5.966104, shape=(), dtype=float32)\n",
      "no real eigenvalues found\n",
      "1/1 [==============================] - 0s 47ms/step\n",
      "tf.Tensor(-4.5814614, shape=(), dtype=float32)\n",
      "no real eigenvalues found\n"
     ]
    }
   ],
   "source": [
    "from data_augmentation import get_augmentented_dataset\n",
    "\n",
    "evecs_subdataset = evecs_dataset[:1,:,:,:]\n",
    "\n",
    "augmented_sample_dataset = get_augmentented_dataset(\n",
    "                            evals_dataset=evals_dataset,\n",
    "                            batch_size=BATCH_SIZE,\n",
    "                            nb_batch=NB_BATCH,\n",
    "                            steps_per_epoch=NB_STEPS,\n",
    "                            evecs_dataset=evecs_subdataset,\n",
    "                            size_augmentation=10\n",
    "                            )\n",
    "\n",
    "augmented_evecs_dataset = tf.convert_to_tensor([s[0] for s in augmented_sample_dataset])\n",
    "augmented_evals_dataset = tf.convert_to_tensor([s[1] for s in augmented_sample_dataset])"
   ]
  },
  {
   "cell_type": "code",
   "execution_count": 8,
   "metadata": {},
   "outputs": [
    {
     "name": "stdout",
     "output_type": "stream",
     "text": [
      "(10, 1, 8, 8, 1)\n",
      "(10, 64, 64, 2)\n"
     ]
    }
   ],
   "source": [
    "print(augmented_evals_dataset.shape)\n",
    "print(augmented_evecs_dataset.shape)"
   ]
  },
  {
   "cell_type": "code",
   "execution_count": 9,
   "metadata": {},
   "outputs": [
    {
     "name": "stdout",
     "output_type": "stream",
     "text": [
      "(64,)\n"
     ]
    },
    {
     "data": {
      "image/png": "[encoded data removed]",
      "text/plain": [
       "<Figure size 432x288 with 2 Axes>"
      ]
     },
     "metadata": {
      "needs_background": "light"
     },
     "output_type": "display_data"
    }
   ],
   "source": [
    "from beamforming import beamform, get_csm\n",
    "\n",
    "NUMFREQ = 1\n",
    "NUMCHANNELS = 64\n",
    "\n",
    "augmented_evals = augmented_evals_dataset[0,:,:,:]\n",
    "augmented_evecs = augmented_evecs_dataset[0,:,:,:]\n",
    "\n",
    "evals_vec_numpy = np.sort(np.array(augmented_evals[0,:, :, 0]).flatten())\n",
    "evals_vec = tf.convert_to_tensor(evals_vec_numpy) \n",
    "\n",
    "evecs_real = augmented_evecs[:,:,0]\n",
    "evecs_imag = augmented_evecs[:,:,1]\n",
    "\n",
    "csm = get_csm(evecs_real, evecs_imag, evals_vec).numpy()\n",
    "csm = np.reshape(csm, newshape=(NUMFREQ,NUMCHANNELS,NUMCHANNELS))\n",
    "\n",
    "beamform(csm)"
   ]
  },
  {
   "cell_type": "code",
   "execution_count": null,
   "metadata": {},
   "outputs": [],
   "source": []
  }
 ],
 "metadata": {
  "kernelspec": {
   "display_name": "Python 3.10.6 ('master_arbeit2')",
   "language": "python",
   "name": "python3"
  },
  "language_info": {
   "codemirror_mode": {
    "name": "ipython",
    "version": 3
   },
   "file_extension": ".py",
   "mimetype": "text/x-python",
   "name": "python",
   "nbconvert_exporter": "python",
   "pygments_lexer": "ipython3",
   "version": "3.10.6"
  },
  "orig_nbformat": 4,
  "vscode": {
   "interpreter": {
    "hash": "ee9206719eeebb7131337a866603fe9888305f758dccf6e70861fcf9d28eaeee"
   }
  }
 },
 "nbformat": 4,
 "nbformat_minor": 2
}
