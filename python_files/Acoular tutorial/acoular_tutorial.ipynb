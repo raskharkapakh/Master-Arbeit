{
 "cells": [
  {
   "cell_type": "markdown",
   "metadata": {},
   "source": [
    "# Tutorial"
   ]
  },
  {
   "cell_type": "code",
   "execution_count": null,
   "metadata": {},
   "outputs": [],
   "source": [
    "import numpy as np\n",
    "import acoular"
   ]
  },
  {
   "cell_type": "code",
   "execution_count": null,
   "metadata": {},
   "outputs": [],
   "source": [
    "acoular.demo.acoular_demo.run()"
   ]
  },
  {
   "cell_type": "markdown",
   "metadata": {},
   "source": [
    "Reading the data:"
   ]
  },
  {
   "cell_type": "code",
   "execution_count": null,
   "metadata": {},
   "outputs": [],
   "source": [
    "ts = acoular.TimeSamples(name='three_sources.h5')"
   ]
  },
  {
   "cell_type": "markdown",
   "metadata": {},
   "source": [
    "Creating the power spectra (object containing the cross spectral matrix):"
   ]
  },
  {
   "cell_type": "code",
   "execution_count": null,
   "metadata": {},
   "outputs": [],
   "source": [
    "ps = acoular.PowerSpectra(time_data=ts, block_size=128, window='Hanning')"
   ]
  },
  {
   "cell_type": "markdown",
   "metadata": {},
   "source": [
    "Creating grid where the sources can possibly be located "
   ]
  },
  {
   "cell_type": "code",
   "execution_count": null,
   "metadata": {},
   "outputs": [],
   "source": [
    "rg = acoular.RectGrid(\n",
    "    x_min=-0.2,\n",
    "    x_max=0.2,\n",
    "    y_min=-0.2,\n",
    "    y_max=0.2,\n",
    "    z=0.3,\n",
    "    increment=0.01\n",
    "    )"
   ]
  },
  {
   "cell_type": "markdown",
   "metadata": {},
   "source": [
    "Importing the locations of the microphones"
   ]
  },
  {
   "cell_type": "code",
   "execution_count": null,
   "metadata": {},
   "outputs": [],
   "source": [
    "from os import path\n",
    "\n",
    "micgeofile = path.join(path.split(acoular.__file__)[0],'xml','array_64.xml')\n",
    "mg = acoular.MicGeom(from_file=micgeofile)"
   ]
  },
  {
   "cell_type": "markdown",
   "metadata": {},
   "source": [
    "Plotting position of the microphones"
   ]
  },
  {
   "cell_type": "code",
   "execution_count": null,
   "metadata": {},
   "outputs": [],
   "source": [
    "import pylab as plt\n",
    "\n",
    "plt.ion() # switch on interactive plotting mode\n",
    "plt.plot(mg.mpos[0],mg.mpos[1],'o')"
   ]
  },
  {
   "cell_type": "markdown",
   "metadata": {},
   "source": [
    "Creating the steering vector"
   ]
  },
  {
   "cell_type": "code",
   "execution_count": null,
   "metadata": {},
   "outputs": [],
   "source": [
    "st = acoular.SteeringVector(grid=rg, mics=mg)"
   ]
  },
  {
   "cell_type": "markdown",
   "metadata": {},
   "source": [
    "Creating the object that encapsulates the delay-and-sum algorithm (beamforming)"
   ]
  },
  {
   "cell_type": "code",
   "execution_count": null,
   "metadata": {},
   "outputs": [],
   "source": [
    "bb = acoular.BeamformerBase(freq_data=ps, steer=st)"
   ]
  },
  {
   "cell_type": "markdown",
   "metadata": {},
   "source": [
    "The beamforming result mapped onto the grid is queried for a frequency of 8000 Hz and over a third-octave wide frequency band (thus the ‘3’ in the second argument).\n",
    "\n",
    "Then, the processing starts:\n",
    "- The data is read from the file\n",
    "- The cross spectral matrix is computed\n",
    "- The beamforming is performed. \n",
    "\n",
    "Finally, the result (sound pressure squared) is given as an array with the same shape as the grid. Using the helper function L_p, this is converted to decibels"
   ]
  },
  {
   "cell_type": "code",
   "execution_count": null,
   "metadata": {},
   "outputs": [],
   "source": [
    "pm = bb.synthetic(8000, 3)\n",
    "[('three_sources_cache.h5', 1)]\n",
    "\n",
    "Lm = acoular.L_p(pm)"
   ]
  },
  {
   "cell_type": "markdown",
   "metadata": {},
   "source": [
    "Plotting the result of the beamforming:"
   ]
  },
  {
   "cell_type": "code",
   "execution_count": null,
   "metadata": {},
   "outputs": [],
   "source": [
    "plt.figure() # open new figure\n",
    "plt.imshow(Lm.T, origin='lower', vmin=Lm.max()-10, extent=rg.extend(), interpolation='bicubic')\n",
    "plt.colorbar()\n"
   ]
  },
  {
   "cell_type": "markdown",
   "metadata": {},
   "source": [
    "# Reproduction of the plot of the thesis task"
   ]
  },
  {
   "cell_type": "code",
   "execution_count": null,
   "metadata": {},
   "outputs": [],
   "source": [
    "# Generate the data for single source\n",
    "from os import path\n",
    "from acoular import __file__ as bpath, MicGeom, WNoiseGenerator, PointSource, Mixer, WriteH5\n",
    "\n",
    "sfreq = 51200\n",
    "duration = 10\n",
    "nsamples = duration*sfreq\n",
    "micgeofile = path.join(path.split(bpath)[0],'xml','array_64.xml')\n",
    "h5savefile = 'single_sources.h5'\n",
    "\n",
    "m = MicGeom(from_file=micgeofile)\n",
    "n = WNoiseGenerator(sample_freq=sfreq, numsamples=nsamples, seed=1)\n",
    "p = PointSource(signal=n, mpos=m,  loc=(-0.1,-0.1,0.3))\n",
    "\n",
    "wh5 = WriteH5(source=p, name=h5savefile)\n",
    "wh5.save()"
   ]
  },
  {
   "cell_type": "code",
   "execution_count": null,
   "metadata": {},
   "outputs": [],
   "source": [
    "# need to create data (timestamps ts_single_source) for a single source\n",
    "ts_single_source = acoular.TimeSamples(name='single_sources.h5')\n",
    "\n",
    "# use it to create power spectra\n",
    "ps_single_source =  acoular.PowerSpectra(time_data=ts_single_source, block_size=128, window='Hanning')"
   ]
  },
  {
   "cell_type": "code",
   "execution_count": null,
   "metadata": {},
   "outputs": [],
   "source": [
    "csm = ps_single_source.csm[10]\n",
    "\n",
    "eva = np.linalg.eigvals(csm)\n",
    "eva = np.sort(eva)\n",
    "\n",
    "# convert eigenvalue into levels\n",
    "eva_lvl = 10*np.log10(eva/np.max(eva))\n",
    "\n",
    "# plotting\n",
    "plt.plot(np.arange(eva_lvl.shape[0]), eva_lvl)"
   ]
  }
 ],
 "metadata": {
  "kernelspec": {
   "display_name": "Python 3.10.4 ('master_arbeit')",
   "language": "python",
   "name": "python3"
  },
  "language_info": {
   "codemirror_mode": {
    "name": "ipython",
    "version": 3
   },
   "file_extension": ".py",
   "mimetype": "text/x-python",
   "name": "python",
   "nbconvert_exporter": "python",
   "pygments_lexer": "ipython3",
   "version": "3.10.4"
  },
  "orig_nbformat": 4,
  "vscode": {
   "interpreter": {
    "hash": "d46cea35c42c054183b6642d4f981f16f79b8ccebc5e48374ba9e6e0f8016689"
   }
  }
 },
 "nbformat": 4,
 "nbformat_minor": 2
}
